{
 "cells": [
  {
   "cell_type": "markdown",
   "metadata": {},
   "source": [
    "# Test-Driven Prompt Development (TDPD) for Customer-Facing GenAI Applications in Fintech\n",
    "\n",
    "The rise of generative AI in fintech has created new opportunities for improving customer service, especially in areas like querying account balances, converting currencies, and managing multi-account setups. However, deploying these applications reliably at scale requires thorough testing of AI-generated responses. This is where Test-Driven Prompt Development (TDPD) comes into play.\n",
    "\n",
    "This article explains how a fintech company can set up a TDPD project, focusing on a specific task: Querying account balances for customers with multiple accounts in different currencies and time zones. The approach includes writing test cases, automating testing with an LLM (such as GPT), scoring the responses, visualizing results, and managing prompts using PromptLayer.\n",
    "\n",
    "## 1. What is Test-Driven Prompt Development?\n",
    "\n",
    "TDPD applies test-driven principles to prompt engineering. It’s a method for ensuring that prompts deliver the correct and accurate responses before going live in customer-facing applications. The process includes:\n",
    "\n",
    "1. Defining test cases with expected outcomes.\n",
    "2. Running tests by sending prompts to an LLM and retrieving the AI-generated responses.\n",
    "3. Scoring responses based on accuracy.\n",
    "4. Iterating on prompt refinement until all tests pass.\n",
    "\n",
    "This method provides a systematic way to measure and improve prompt performance, ensuring consistency and reliability in customer interactions.\n",
    "\n",
    "## 2. Step-by-Step Guide: Setting Up a TDPD Project\n",
    "\n",
    "### Step 1: Setting Up the Environment and Data\n",
    "\n",
    "For the fintech example, let’s simulate a set of customer accounts with balances in different currencies and time zones. This sample data will be used for testing queries like “What is my balance?” and “Convert all my balances to USD.”"
   ]
  },
  {
   "cell_type": "code",
   "execution_count": 1,
   "metadata": {},
   "outputs": [
    {
     "data": {
      "text/html": [
       "<div>\n",
       "<style scoped>\n",
       "    .dataframe tbody tr th:only-of-type {\n",
       "        vertical-align: middle;\n",
       "    }\n",
       "\n",
       "    .dataframe tbody tr th {\n",
       "        vertical-align: top;\n",
       "    }\n",
       "\n",
       "    .dataframe thead th {\n",
       "        text-align: right;\n",
       "    }\n",
       "</style>\n",
       "<table border=\"1\" class=\"dataframe\">\n",
       "  <thead>\n",
       "    <tr style=\"text-align: right;\">\n",
       "      <th></th>\n",
       "      <th>Account_ID</th>\n",
       "      <th>Customer</th>\n",
       "      <th>Balance</th>\n",
       "      <th>Currency</th>\n",
       "      <th>Time_Zone</th>\n",
       "      <th>COB_Time</th>\n",
       "    </tr>\n",
       "  </thead>\n",
       "  <tbody>\n",
       "    <tr>\n",
       "      <th>0</th>\n",
       "      <td>101</td>\n",
       "      <td>Alice</td>\n",
       "      <td>1000.00</td>\n",
       "      <td>USD</td>\n",
       "      <td>America/New_York</td>\n",
       "      <td>17:00</td>\n",
       "    </tr>\n",
       "    <tr>\n",
       "      <th>1</th>\n",
       "      <td>102</td>\n",
       "      <td>Bob</td>\n",
       "      <td>2500.50</td>\n",
       "      <td>EUR</td>\n",
       "      <td>Europe/Berlin</td>\n",
       "      <td>18:00</td>\n",
       "    </tr>\n",
       "    <tr>\n",
       "      <th>2</th>\n",
       "      <td>103</td>\n",
       "      <td>Charlie</td>\n",
       "      <td>500.75</td>\n",
       "      <td>JPY</td>\n",
       "      <td>Asia/Tokyo</td>\n",
       "      <td>15:00</td>\n",
       "    </tr>\n",
       "    <tr>\n",
       "      <th>3</th>\n",
       "      <td>104</td>\n",
       "      <td>Alice</td>\n",
       "      <td>400.00</td>\n",
       "      <td>USD</td>\n",
       "      <td>America/Chicago</td>\n",
       "      <td>17:00</td>\n",
       "    </tr>\n",
       "    <tr>\n",
       "      <th>4</th>\n",
       "      <td>105</td>\n",
       "      <td>Charlie</td>\n",
       "      <td>2000.00</td>\n",
       "      <td>EUR</td>\n",
       "      <td>Europe/London</td>\n",
       "      <td>18:00</td>\n",
       "    </tr>\n",
       "  </tbody>\n",
       "</table>\n",
       "</div>"
      ],
      "text/plain": [
       "   Account_ID Customer  Balance Currency         Time_Zone COB_Time\n",
       "0         101    Alice  1000.00      USD  America/New_York    17:00\n",
       "1         102      Bob  2500.50      EUR     Europe/Berlin    18:00\n",
       "2         103  Charlie   500.75      JPY        Asia/Tokyo    15:00\n",
       "3         104    Alice   400.00      USD   America/Chicago    17:00\n",
       "4         105  Charlie  2000.00      EUR     Europe/London    18:00"
      ]
     },
     "execution_count": 1,
     "metadata": {},
     "output_type": "execute_result"
    }
   ],
   "source": [
    "import pandas as pd\n",
    "\n",
    "# Sample account data\n",
    "accounts_data = {\n",
    "    'Account_ID': [101, 102, 103, 104, 105],\n",
    "    'Customer': ['Alice', 'Bob', 'Charlie', 'Alice', 'Charlie'],\n",
    "    'Balance': [1000.00, 2500.50, 500.75, 400.00, 2000.00],\n",
    "    'Currency': ['USD', 'EUR', 'JPY', 'USD', 'EUR'],\n",
    "    'Time_Zone': ['America/New_York', 'Europe/Berlin', 'Asia/Tokyo', 'America/Chicago', 'Europe/London'],\n",
    "    'COB_Time': ['17:00', '18:00', '15:00', '17:00', '18:00']\n",
    "}\n",
    "\n",
    "# Create DataFrame\n",
    "accounts_df = pd.DataFrame(accounts_data)\n",
    "accounts_df\n"
   ]
  },
  {
   "cell_type": "markdown",
   "metadata": {},
   "source": [
    "This creates a table of customer accounts, useful for simulating different queries in subsequent steps."
   ]
  },
  {
   "cell_type": "markdown",
   "metadata": {},
   "source": [
    "### Step 2: Defining Prompt Test Cases\n",
    "\n",
    "Next, define a set of prompt test cases to be run against the LLM. Each test case contains a customer name, the prompt they might ask (such as \"What is my balance?\"), and the expected response."
   ]
  },
  {
   "cell_type": "code",
   "execution_count": 2,
   "metadata": {},
   "outputs": [],
   "source": [
    "# Example test cases for querying account balances\n",
    "test_cases = [\n",
    "    {\"Customer\": \"Alice\", \"Prompt\": \"What is my balance?\", \n",
    "     \"Expected_Response\": \"Alice has 1000 USD (New York) and 400 USD (Chicago).\"},\n",
    "    \n",
    "    {\"Customer\": \"Bob\", \"Prompt\": \"Show my account balances.\", \n",
    "     \"Expected_Response\": \"Bob has 2500.50 EUR (Berlin).\"},\n",
    "    \n",
    "    {\"Customer\": \"Charlie\", \"Prompt\": \"What are my account balances?\", \n",
    "     \"Expected_Response\": \"Charlie has 500.75 JPY (Tokyo) and 2000 EUR (London).\"}\n",
    "]\n"
   ]
  },
  {
   "cell_type": "markdown",
   "metadata": {},
   "source": [
    "These test cases will later be used to compare the expected response against the actual response generated by the LLM."
   ]
  },
  {
   "cell_type": "markdown",
   "metadata": {},
   "source": [
    "### Step 3: Running Tests with Currency Conversion (Using Live Exchange Rates)\n",
    "\n",
    "If customers want to convert all balances to USD, you need live exchange rates to ensure the most accurate conversion. Here’s how to implement currency conversion using static rates (replace with real API calls if needed):"
   ]
  },
  {
   "cell_type": "code",
   "execution_count": 3,
   "metadata": {},
   "outputs": [
    {
     "data": {
      "text/plain": [
       "[{'Customer': 'Alice',\n",
       "  'Prompt': 'Convert all my balances to USD',\n",
       "  'Expected_Response': \"Alice's total balance in USD is 1400.00.\"},\n",
       " {'Customer': 'Bob',\n",
       "  'Prompt': 'Convert all my balances to USD',\n",
       "  'Expected_Response': \"Bob's total balance in USD is 2950.59.\"},\n",
       " {'Customer': 'Charlie',\n",
       "  'Prompt': 'Convert all my balances to USD',\n",
       "  'Expected_Response': \"Charlie's total balance in USD is 2364.51.\"}]"
      ]
     },
     "execution_count": 3,
     "metadata": {},
     "output_type": "execute_result"
    }
   ],
   "source": [
    "import requests\n",
    "\n",
    "def get_exchange_rate(currency):\n",
    "    # Placeholder function - replace with actual API call to get real exchange rates\n",
    "    rates = {\n",
    "        'USD': 1.0,   # Assume USD is the base\n",
    "        'EUR': 1.18,  # Example: 1 EUR = 1.18 USD\n",
    "        'JPY': 0.009  # Example: 1 JPY = 0.009 USD\n",
    "    }\n",
    "    return rates.get(currency, 1.0)\n",
    "\n",
    "def convert_to_usd(balance, currency):\n",
    "    rate = get_exchange_rate(currency)\n",
    "    return balance * rate\n",
    "\n",
    "# Simulating currency conversion for customers\n",
    "test_cases_with_conversion = [\n",
    "    {\"Customer\": \"Alice\", \"Prompt\": \"Convert all my balances to USD\", \n",
    "     \"Expected_Response\": f\"Alice's total balance in USD is {convert_to_usd(1000, 'USD') + convert_to_usd(400, 'USD'):.2f}.\"},\n",
    "    \n",
    "    {\"Customer\": \"Bob\", \"Prompt\": \"Convert all my balances to USD\", \n",
    "     \"Expected_Response\": f\"Bob's total balance in USD is {convert_to_usd(2500.50, 'EUR'):.2f}.\"},\n",
    "    \n",
    "    {\"Customer\": \"Charlie\", \"Prompt\": \"Convert all my balances to USD\", \n",
    "     \"Expected_Response\": f\"Charlie's total balance in USD is {convert_to_usd(500.75, 'JPY') + convert_to_usd(2000, 'EUR'):.2f}.\"}\n",
    "]\n",
    "\n",
    "test_cases_with_conversion\n"
   ]
  },
  {
   "cell_type": "markdown",
   "metadata": {},
   "source": [
    "This step simulates retrieving live currency rates and applying them to the balance inquiries."
   ]
  },
  {
   "cell_type": "markdown",
   "metadata": {},
   "source": [
    "### Step 4: Scoring the LLM Responses\n",
    "\n",
    "Once you get responses from the LLM, you need to compare them to the expected results and assign scores. Let’s implement a basic scoring function that assigns 1.0 for a perfect match and 0.0 for an incorrect answer:"
   ]
  },
  {
   "cell_type": "code",
   "execution_count": 4,
   "metadata": {},
   "outputs": [
    {
     "data": {
      "text/plain": [
       "[{'Customer': 'Alice',\n",
       "  'Prompt': 'Convert all my balances to USD',\n",
       "  'Expected_Response': \"Alice's total balance in USD is 1400.00.\",\n",
       "  'System_Response': \"Alice's total balance in USD is 1400.00.\",\n",
       "  'Score': 1.0},\n",
       " {'Customer': 'Bob',\n",
       "  'Prompt': 'Convert all my balances to USD',\n",
       "  'Expected_Response': \"Bob's total balance in USD is 2950.59.\",\n",
       "  'System_Response': \"Bob's total balance in USD is 2950.59.\",\n",
       "  'Score': 1.0},\n",
       " {'Customer': 'Charlie',\n",
       "  'Prompt': 'Convert all my balances to USD',\n",
       "  'Expected_Response': \"Charlie's total balance in USD is 2364.51.\",\n",
       "  'System_Response': \"Charlie's total balance in USD is 18.00.\",\n",
       "  'Score': 0.5}]"
      ]
     },
     "execution_count": 4,
     "metadata": {},
     "output_type": "execute_result"
    }
   ],
   "source": [
    "# Example scoring function to check accuracy\n",
    "def score_responses(expected, actual):\n",
    "    if expected == actual:\n",
    "        return 1.0  # Perfect match\n",
    "    elif expected.split()[0] == actual.split()[0]:\n",
    "        return 0.5  # Partial match (e.g., minor mistake)\n",
    "    else:\n",
    "        return 0.0  # Incorrect\n",
    "\n",
    "# Example system responses to score\n",
    "system_responses = [\n",
    "    \"Alice's total balance in USD is 1400.00.\",  # Correct\n",
    "    \"Bob's total balance in USD is 2950.59.\",    # Correct\n",
    "    \"Charlie's total balance in USD is 18.00.\"   # Incorrect (example)\n",
    "]\n",
    "\n",
    "# Apply the scoring to each test case\n",
    "for i, test_case in enumerate(test_cases_with_conversion):\n",
    "    test_case['System_Response'] = system_responses[i]\n",
    "    test_case['Score'] = score_responses(test_case['Expected_Response'], test_case['System_Response'])\n",
    "\n",
    "test_cases_with_conversion\n"
   ]
  },
  {
   "cell_type": "markdown",
   "metadata": {},
   "source": [
    "This code assigns a score to each response, indicating whether the LLM response was accurate."
   ]
  },
  {
   "cell_type": "markdown",
   "metadata": {},
   "source": [
    "### Step 5: Visualizing the Test Results\n",
    "\n",
    "To better understand the performance of the prompt tests, visualize the results using a bar chart. Here’s how you can do it with matplotlib and seaborn:"
   ]
  },
  {
   "cell_type": "code",
   "execution_count": 5,
   "metadata": {},
   "outputs": [
    {
     "name": "stderr",
     "output_type": "stream",
     "text": [
      "C:\\Users\\Charlotte\\AppData\\Local\\Temp\\ipykernel_24668\\250797495.py:10: FutureWarning: \n",
      "\n",
      "Passing `palette` without assigning `hue` is deprecated and will be removed in v0.14.0. Assign the `x` variable to `hue` and set `legend=False` for the same effect.\n",
      "\n",
      "  sns.barplot(x='Customer', y='Score', data=results_df, palette=\"Blues_d\")\n"
     ]
    },
    {
     "data": {
      "image/png": "[encoded data removed]",
      "text/plain": [
       "<Figure size 800x600 with 1 Axes>"
      ]
     },
     "metadata": {},
     "output_type": "display_data"
    }
   ],
   "source": [
    "import matplotlib.pyplot as plt\n",
    "import seaborn as sns\n",
    "import pandas as pd\n",
    "\n",
    "# Convert the test case results to a DataFrame\n",
    "results_df = pd.DataFrame(test_cases_with_conversion)\n",
    "\n",
    "# Plot the scores for each customer\n",
    "plt.figure(figsize=(8, 6))\n",
    "sns.barplot(x='Customer', y='Score', data=results_df, palette=\"Blues_d\")\n",
    "\n",
    "# Set plot labels and title\n",
    "plt.title('Prompt Accuracy Scores', fontsize=14)\n",
    "plt.xlabel('Customer', fontsize=12)\n",
    "plt.ylabel('Score (Accuracy)', fontsize=12)\n",
    "\n",
    "plt.show()\n"
   ]
  },
  {
   "cell_type": "markdown",
   "metadata": {},
   "source": [
    "This chart helps visualize which prompts performed well and which did not, giving insight into areas that need further refinement."
   ]
  },
  {
   "cell_type": "markdown",
   "metadata": {},
   "source": [
    "### Step 6: Managing Prompts with PromptLayer\n",
    "\n",
    "As your organization grows its AI capabilities, managing and tracking prompts becomes increasingly important. This is where _PromptLayer_ comes in. PromptLayer is a tool that allows you to log, version, and audit your prompts and the AI responses associated with them. It acts as a middleware between your application and the LLM API, providing powerful features such as:\n",
    "\n",
    "- _Prompt Versioning_: Each time you modify a prompt, you can assign it a version number. This makes it easy to track changes over time and understand how different prompt variations impact the AI’s responses.\n",
    "\n",
    "- _Prompt Auditing_: PromptLayer logs every prompt and its corresponding response, enabling a full audit trail. This is particularly useful in fintech, where transparency and compliance are crucial.\n",
    "\n",
    "- _Prompt Debugging_: If your system starts generating inaccurate responses after a change, PromptLayer lets you quickly revert to a previous version of the prompt, ensuring that your service remains reliable."
   ]
  },
  {
   "cell_type": "markdown",
   "metadata": {},
   "source": [
    "For example, using PromptLayer, you could log the prompt for converting balances to USD and later retrieve its past versions, and this approach not only helps you maintain prompt accuracy but also ensures accountability—particularly important when dealing with sensitive financial information.\n",
    "\n",
    "While this article provides an introduction to how PromptLayer can enhance your TDPD workflow, the full potential of prompt management and auditing with PromptLayer deserves its own detailed discussion. In a future article, we will explore advanced techniques for using PromptLayer, including setting up continuous integration pipelines for prompts, detailed auditing for regulatory compliance, and integrating PromptLayer with other DevOps tools for large-scale GenAI applications."
   ]
  },
  {
   "cell_type": "markdown",
   "metadata": {},
   "source": [
    "## Conclusion\n",
    "\n",
    "This article demonstrated how to set up a Test-Driven Prompt Development (TDPD) project in a fintech environment. By defining test cases, running them through a LLM, scoring responses, and visualizing the results, you can ensure reliable AI-generated responses for customer queries. Managing prompts with tools like PromptLayer allows you to version and audit prompts over time, ensuring continuous improvement and compliance.\n",
    "\n",
    "TDPD provides a rigorous framework to ensure that customer-facing AI systems, especially in regulated industries like finance, deliver accurate and reliable results."
   ]
  }
 ],
 "metadata": {
  "kernelspec": {
   "display_name": "Python 3",
   "language": "python",
   "name": "python3"
  },
  "language_info": {
   "codemirror_mode": {
    "name": "ipython",
    "version": 3
   },
   "file_extension": ".py",
   "mimetype": "text/x-python",
   "name": "python",
   "nbconvert_exporter": "python",
   "pygments_lexer": "ipython3",
   "version": "3.13.0"
  }
 },
 "nbformat": 4,
 "nbformat_minor": 2
}
